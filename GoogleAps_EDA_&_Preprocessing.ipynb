{
 "cells": [
  {
   "cell_type": "markdown",
   "id": "79ab0372",
   "metadata": {},
   "source": [
    "# <font color='red'> EDA & Data Preprocessing on Google App Store Rating Dataset </font> "
   ]
  },
  {
   "cell_type": "markdown",
   "id": "e978c584",
   "metadata": {},
   "source": [
    "# Domain: Mobile device apps\n",
    "# Context:\n",
    "- The Play Store apps data has enormous potential to drive app-making businesses to success. However, many\n",
    "apps are being developed every single day and only a few of them become profitable. It is important for\n",
    "developers to be able to predict the success of their app and incorporate features which makes an app\n",
    "successful. Before any such predictive-study can be done, it is necessary to do EDA and data-preprocessing on\n",
    "the apps data available for google app store applications. From the collected apps data and user ratings from\n",
    "the app stores, let's try to extract insightful information.\n",
    "# Objective:\n",
    "- The Goal is to explore the data and pre-process it for future use in any predictive analytics study.\n",
    "# Data set Information:\n",
    "- Web scraped data of 10k Play Store apps for analyzing the Android market. Each app (row) has values for\n",
    "category, rating, size, and more.\n",
    "\n",
    "# Attribute Information:\n",
    "\n",
    "| SL.No | Attribute      | Description                                |\n",
    "|-------|-------------------|---------------------------------------------|\n",
    "| 1     | App               | Application name                            |\n",
    "| 2     | Category          | Category the app belongs to.                              |\n",
    "| 3     | Rating            | Overall user rating of the app                          |\n",
    "| 4     | Size              | Size of the app                       |\n",
    "| 5     | Installs          | Number of user reviews for the app                    |\n",
    "| 6     | Type              |  Paid or Free                           |\n",
    "| 7     |  Price             | Price of the app                            |\n",
    "| 8     | Content Rating     | Age group the app is targeted at - children/Mature 21+ /Adult                         |\n",
    "| 9     |  Genres            |An app can belong to multiple genres (apart from its main category). For eg. a|\n",
    "|        |                     | musical family game will belong to Music, Game, Family genres.   |                     \n",
    "| 10    | Last Updated              | Date when the app was last updated on play store.                       |\n",
    "| 11    | Current Ver       | Current version of the app available on play store.                         |\n",
    "| 12    | Android Ver        |    Min required Android Version.         |\n",
    "\n",
    "\n",
    "\n"
   ]
  },
  {
   "cell_type": "markdown",
   "id": "d3503b84",
   "metadata": {},
   "source": [
    "# Questions:-"
   ]
  },
  {
   "cell_type": "markdown",
   "id": "e7596958",
   "metadata": {},
   "source": [
    "# 1. Importing the required libraries and read the dataset"
   ]
  },
  {
   "cell_type": "code",
   "execution_count": 1,
   "id": "6d19891c",
   "metadata": {
    "ExecuteTime": {
     "end_time": "2023-11-21T07:03:53.069600Z",
     "start_time": "2023-11-21T07:03:45.778432Z"
    }
   },
   "outputs": [],
   "source": [
    "import pandas as pd \n",
    "import numpy as np\n",
    "import matplotlib.pyplot as plt\n",
    "import seaborn as sns\n",
    "import warnings\n",
    "warnings.filterwarnings(\"ignore\", category=UserWarning) \n",
    "from sklearn.model_selection import train_test_split\n",
    "from sklearn.preprocessing import StandardScaler "
   ]
  },
  {
   "cell_type": "code",
   "execution_count": 2,
   "id": "9761bd51",
   "metadata": {
    "ExecuteTime": {
     "end_time": "2023-11-21T07:03:53.179544Z",
     "start_time": "2023-11-21T07:03:53.073317Z"
    }
   },
   "outputs": [],
   "source": [
    "df = pd.read_csv(\"Apps_data+(1) (1).csv\")"
   ]
  },
  {
   "cell_type": "markdown",
   "id": "6c89866e",
   "metadata": {},
   "source": [
    "# 2. Checking the first few samples, shape, info of the data and try to familiarize ourself with different features "
   ]
  },
  {
   "cell_type": "code",
   "execution_count": 3,
   "id": "3642f051",
   "metadata": {
    "ExecuteTime": {
     "end_time": "2023-11-21T07:03:53.244111Z",
     "start_time": "2023-11-21T07:03:53.186673Z"
    }
   },
   "outputs": [
    {
     "data": {
      "text/html": [
       "<div>\n",
       "<style scoped>\n",
       "    .dataframe tbody tr th:only-of-type {\n",
       "        vertical-align: middle;\n",
       "    }\n",
       "\n",
       "    .dataframe tbody tr th {\n",
       "        vertical-align: top;\n",
       "    }\n",
       "\n",
       "    .dataframe thead th {\n",
       "        text-align: right;\n",
       "    }\n",
       "</style>\n",
       "<table border=\"1\" class=\"dataframe\">\n",
       "  <thead>\n",
       "    <tr style=\"text-align: right;\">\n",
       "      <th></th>\n",
       "      <th>App</th>\n",
       "      <th>Category</th>\n",
       "      <th>Rating</th>\n",
       "      <th>Reviews</th>\n",
       "      <th>Size</th>\n",
       "      <th>Installs</th>\n",
       "      <th>Type</th>\n",
       "      <th>Price</th>\n",
       "      <th>Content Rating</th>\n",
       "      <th>Genres</th>\n",
       "      <th>Last Updated</th>\n",
       "      <th>Current Ver</th>\n",
       "      <th>Android Ver</th>\n",
       "    </tr>\n",
       "  </thead>\n",
       "  <tbody>\n",
       "    <tr>\n",
       "      <th>0</th>\n",
       "      <td>Photo Editor &amp; Candy Camera &amp; Grid &amp; ScrapBook</td>\n",
       "      <td>ART_AND_DESIGN</td>\n",
       "      <td>4.1</td>\n",
       "      <td>159</td>\n",
       "      <td>19M</td>\n",
       "      <td>10,000+</td>\n",
       "      <td>Free</td>\n",
       "      <td>0</td>\n",
       "      <td>Everyone</td>\n",
       "      <td>Art &amp; Design</td>\n",
       "      <td>January 7, 2018</td>\n",
       "      <td>1.0.0</td>\n",
       "      <td>4.0.3 and up</td>\n",
       "    </tr>\n",
       "    <tr>\n",
       "      <th>1</th>\n",
       "      <td>Coloring book moana</td>\n",
       "      <td>ART_AND_DESIGN</td>\n",
       "      <td>3.9</td>\n",
       "      <td>967</td>\n",
       "      <td>14M</td>\n",
       "      <td>500,000+</td>\n",
       "      <td>Free</td>\n",
       "      <td>0</td>\n",
       "      <td>Everyone</td>\n",
       "      <td>Art &amp; Design;Pretend Play</td>\n",
       "      <td>January 15, 2018</td>\n",
       "      <td>2.0.0</td>\n",
       "      <td>4.0.3 and up</td>\n",
       "    </tr>\n",
       "    <tr>\n",
       "      <th>2</th>\n",
       "      <td>U Launcher Lite – FREE Live Cool Themes, Hide ...</td>\n",
       "      <td>ART_AND_DESIGN</td>\n",
       "      <td>4.7</td>\n",
       "      <td>87510</td>\n",
       "      <td>8.7M</td>\n",
       "      <td>5,000,000+</td>\n",
       "      <td>Free</td>\n",
       "      <td>0</td>\n",
       "      <td>Everyone</td>\n",
       "      <td>Art &amp; Design</td>\n",
       "      <td>August 1, 2018</td>\n",
       "      <td>1.2.4</td>\n",
       "      <td>4.0.3 and up</td>\n",
       "    </tr>\n",
       "    <tr>\n",
       "      <th>3</th>\n",
       "      <td>Sketch - Draw &amp; Paint</td>\n",
       "      <td>ART_AND_DESIGN</td>\n",
       "      <td>4.5</td>\n",
       "      <td>215644</td>\n",
       "      <td>25M</td>\n",
       "      <td>50,000,000+</td>\n",
       "      <td>Free</td>\n",
       "      <td>0</td>\n",
       "      <td>Teen</td>\n",
       "      <td>Art &amp; Design</td>\n",
       "      <td>June 8, 2018</td>\n",
       "      <td>Varies with device</td>\n",
       "      <td>4.2 and up</td>\n",
       "    </tr>\n",
       "    <tr>\n",
       "      <th>4</th>\n",
       "      <td>Pixel Draw - Number Art Coloring Book</td>\n",
       "      <td>ART_AND_DESIGN</td>\n",
       "      <td>4.3</td>\n",
       "      <td>967</td>\n",
       "      <td>2.8M</td>\n",
       "      <td>100,000+</td>\n",
       "      <td>Free</td>\n",
       "      <td>0</td>\n",
       "      <td>Everyone</td>\n",
       "      <td>Art &amp; Design;Creativity</td>\n",
       "      <td>June 20, 2018</td>\n",
       "      <td>1.1</td>\n",
       "      <td>4.4 and up</td>\n",
       "    </tr>\n",
       "  </tbody>\n",
       "</table>\n",
       "</div>"
      ],
      "text/plain": [
       "                                                 App        Category  Rating  \\\n",
       "0     Photo Editor & Candy Camera & Grid & ScrapBook  ART_AND_DESIGN     4.1   \n",
       "1                                Coloring book moana  ART_AND_DESIGN     3.9   \n",
       "2  U Launcher Lite – FREE Live Cool Themes, Hide ...  ART_AND_DESIGN     4.7   \n",
       "3                              Sketch - Draw & Paint  ART_AND_DESIGN     4.5   \n",
       "4              Pixel Draw - Number Art Coloring Book  ART_AND_DESIGN     4.3   \n",
       "\n",
       "  Reviews  Size     Installs  Type Price Content Rating  \\\n",
       "0     159   19M      10,000+  Free     0       Everyone   \n",
       "1     967   14M     500,000+  Free     0       Everyone   \n",
       "2   87510  8.7M   5,000,000+  Free     0       Everyone   \n",
       "3  215644   25M  50,000,000+  Free     0           Teen   \n",
       "4     967  2.8M     100,000+  Free     0       Everyone   \n",
       "\n",
       "                      Genres      Last Updated         Current Ver  \\\n",
       "0               Art & Design   January 7, 2018               1.0.0   \n",
       "1  Art & Design;Pretend Play  January 15, 2018               2.0.0   \n",
       "2               Art & Design    August 1, 2018               1.2.4   \n",
       "3               Art & Design      June 8, 2018  Varies with device   \n",
       "4    Art & Design;Creativity     June 20, 2018                 1.1   \n",
       "\n",
       "    Android Ver  \n",
       "0  4.0.3 and up  \n",
       "1  4.0.3 and up  \n",
       "2  4.0.3 and up  \n",
       "3    4.2 and up  \n",
       "4    4.4 and up  "
      ]
     },
     "execution_count": 3,
     "metadata": {},
     "output_type": "execute_result"
    }
   ],
   "source": [
    "df.head()"
   ]
  },
  {
   "cell_type": "code",
   "execution_count": 4,
   "id": "01229dea",
   "metadata": {
    "ExecuteTime": {
     "end_time": "2023-11-21T07:03:53.281405Z",
     "start_time": "2023-11-21T07:03:53.249114Z"
    }
   },
   "outputs": [
    {
     "data": {
      "text/html": [
       "<div>\n",
       "<style scoped>\n",
       "    .dataframe tbody tr th:only-of-type {\n",
       "        vertical-align: middle;\n",
       "    }\n",
       "\n",
       "    .dataframe tbody tr th {\n",
       "        vertical-align: top;\n",
       "    }\n",
       "\n",
       "    .dataframe thead th {\n",
       "        text-align: right;\n",
       "    }\n",
       "</style>\n",
       "<table border=\"1\" class=\"dataframe\">\n",
       "  <thead>\n",
       "    <tr style=\"text-align: right;\">\n",
       "      <th></th>\n",
       "      <th>App</th>\n",
       "      <th>Category</th>\n",
       "      <th>Rating</th>\n",
       "      <th>Reviews</th>\n",
       "      <th>Size</th>\n",
       "      <th>Installs</th>\n",
       "      <th>Type</th>\n",
       "      <th>Price</th>\n",
       "      <th>Content Rating</th>\n",
       "      <th>Genres</th>\n",
       "      <th>Last Updated</th>\n",
       "      <th>Current Ver</th>\n",
       "      <th>Android Ver</th>\n",
       "    </tr>\n",
       "  </thead>\n",
       "  <tbody>\n",
       "    <tr>\n",
       "      <th>7434</th>\n",
       "      <td>Pekalongan CJ</td>\n",
       "      <td>SOCIAL</td>\n",
       "      <td>NaN</td>\n",
       "      <td>0</td>\n",
       "      <td>5.9M</td>\n",
       "      <td>0+</td>\n",
       "      <td>Free</td>\n",
       "      <td>0</td>\n",
       "      <td>Teen</td>\n",
       "      <td>Social</td>\n",
       "      <td>July 21, 2018</td>\n",
       "      <td>0.0.1</td>\n",
       "      <td>4.4 and up</td>\n",
       "    </tr>\n",
       "  </tbody>\n",
       "</table>\n",
       "</div>"
      ],
      "text/plain": [
       "                App Category  Rating Reviews  Size Installs  Type Price  \\\n",
       "7434  Pekalongan CJ   SOCIAL     NaN       0  5.9M       0+  Free     0   \n",
       "\n",
       "     Content Rating  Genres   Last Updated Current Ver Android Ver  \n",
       "7434           Teen  Social  July 21, 2018       0.0.1  4.4 and up  "
      ]
     },
     "execution_count": 4,
     "metadata": {},
     "output_type": "execute_result"
    }
   ],
   "source": [
    "df.sample() "
   ]
  },
  {
   "cell_type": "code",
   "execution_count": 5,
   "id": "fedcba95",
   "metadata": {
    "ExecuteTime": {
     "end_time": "2023-11-21T07:03:53.301765Z",
     "start_time": "2023-11-21T07:03:53.287408Z"
    }
   },
   "outputs": [
    {
     "data": {
      "text/plain": [
       "(10841, 13)"
      ]
     },
     "execution_count": 5,
     "metadata": {},
     "output_type": "execute_result"
    }
   ],
   "source": [
    "df.shape "
   ]
  },
  {
   "cell_type": "markdown",
   "id": "391f3d03",
   "metadata": {},
   "source": [
    "<b><font color='green'> ~ In the dataset there are a total of 10841 rows and 13 columns "
   ]
  },
  {
   "cell_type": "code",
   "execution_count": 6,
   "id": "b5096995",
   "metadata": {
    "ExecuteTime": {
     "end_time": "2023-11-21T07:03:53.342602Z",
     "start_time": "2023-11-21T07:03:53.306766Z"
    }
   },
   "outputs": [
    {
     "name": "stdout",
     "output_type": "stream",
     "text": [
      "<class 'pandas.core.frame.DataFrame'>\n",
      "RangeIndex: 10841 entries, 0 to 10840\n",
      "Data columns (total 13 columns):\n",
      " #   Column          Non-Null Count  Dtype  \n",
      "---  ------          --------------  -----  \n",
      " 0   App             10841 non-null  object \n",
      " 1   Category        10841 non-null  object \n",
      " 2   Rating          9367 non-null   float64\n",
      " 3   Reviews         10841 non-null  object \n",
      " 4   Size            10841 non-null  object \n",
      " 5   Installs        10841 non-null  object \n",
      " 6   Type            10840 non-null  object \n",
      " 7   Price           10841 non-null  object \n",
      " 8   Content Rating  10840 non-null  object \n",
      " 9   Genres          10841 non-null  object \n",
      " 10  Last Updated    10841 non-null  object \n",
      " 11  Current Ver     10833 non-null  object \n",
      " 12  Android Ver     10838 non-null  object \n",
      "dtypes: float64(1), object(12)\n",
      "memory usage: 1.1+ MB\n"
     ]
    }
   ],
   "source": [
    "df.info() "
   ]
  },
  {
   "cell_type": "markdown",
   "id": "9e263467",
   "metadata": {},
   "source": [
    "<b> Data Types \n",
    "    \n",
    "<b><font color='green'> ~ Objects:There are a total of 12 columns with object data type(includes non numeric data)</b></font>\n",
    "    \n",
    "<b><font color ='green'>~ Float: Only Rating column is a numeric column with float data type. "
   ]
  },
  {
   "cell_type": "markdown",
   "id": "81c53f00",
   "metadata": {},
   "source": [
    "# 3. Check summary statistics of the dataset. List out the columns that need to be worked upon for model building"
   ]
  },
  {
   "cell_type": "code",
   "execution_count": 7,
   "id": "00dd25d4",
   "metadata": {
    "ExecuteTime": {
     "end_time": "2023-11-21T07:03:53.383305Z",
     "start_time": "2023-11-21T07:03:53.351851Z"
    }
   },
   "outputs": [
    {
     "data": {
      "text/html": [
       "<div>\n",
       "<style scoped>\n",
       "    .dataframe tbody tr th:only-of-type {\n",
       "        vertical-align: middle;\n",
       "    }\n",
       "\n",
       "    .dataframe tbody tr th {\n",
       "        vertical-align: top;\n",
       "    }\n",
       "\n",
       "    .dataframe thead th {\n",
       "        text-align: right;\n",
       "    }\n",
       "</style>\n",
       "<table border=\"1\" class=\"dataframe\">\n",
       "  <thead>\n",
       "    <tr style=\"text-align: right;\">\n",
       "      <th></th>\n",
       "      <th>Rating</th>\n",
       "    </tr>\n",
       "  </thead>\n",
       "  <tbody>\n",
       "    <tr>\n",
       "      <th>count</th>\n",
       "      <td>9367.000000</td>\n",
       "    </tr>\n",
       "    <tr>\n",
       "      <th>mean</th>\n",
       "      <td>4.193338</td>\n",
       "    </tr>\n",
       "    <tr>\n",
       "      <th>std</th>\n",
       "      <td>0.537431</td>\n",
       "    </tr>\n",
       "    <tr>\n",
       "      <th>min</th>\n",
       "      <td>1.000000</td>\n",
       "    </tr>\n",
       "    <tr>\n",
       "      <th>25%</th>\n",
       "      <td>4.000000</td>\n",
       "    </tr>\n",
       "    <tr>\n",
       "      <th>50%</th>\n",
       "      <td>4.300000</td>\n",
       "    </tr>\n",
       "    <tr>\n",
       "      <th>75%</th>\n",
       "      <td>4.500000</td>\n",
       "    </tr>\n",
       "    <tr>\n",
       "      <th>max</th>\n",
       "      <td>19.000000</td>\n",
       "    </tr>\n",
       "  </tbody>\n",
       "</table>\n",
       "</div>"
      ],
      "text/plain": [
       "            Rating\n",
       "count  9367.000000\n",
       "mean      4.193338\n",
       "std       0.537431\n",
       "min       1.000000\n",
       "25%       4.000000\n",
       "50%       4.300000\n",
       "75%       4.500000\n",
       "max      19.000000"
      ]
     },
     "execution_count": 7,
     "metadata": {},
     "output_type": "execute_result"
    }
   ],
   "source": [
    "df.describe()"
   ]
  },
  {
   "cell_type": "markdown",
   "id": "981feee0",
   "metadata": {},
   "source": [
    "<b> Inferences:\n",
    "    \n",
    "<b><font color=\"green\">~ There are a total of 9367 entries for the rating section \n",
    "\n",
    "<b><font color='green'>~ The average rating of the apps is aprox: 4.19\n",
    "\n",
    "<b><font color='green'>~ Minimum value is (1) and the Maximum value is (19)  {Considering untreated data:including outliers}"
   ]
  },
  {
   "cell_type": "code",
   "execution_count": 8,
   "id": "b813b29a",
   "metadata": {
    "ExecuteTime": {
     "end_time": "2023-11-21T07:03:53.482605Z",
     "start_time": "2023-11-21T07:03:53.388308Z"
    },
    "scrolled": false
   },
   "outputs": [
    {
     "data": {
      "text/html": [
       "<div>\n",
       "<style scoped>\n",
       "    .dataframe tbody tr th:only-of-type {\n",
       "        vertical-align: middle;\n",
       "    }\n",
       "\n",
       "    .dataframe tbody tr th {\n",
       "        vertical-align: top;\n",
       "    }\n",
       "\n",
       "    .dataframe thead th {\n",
       "        text-align: right;\n",
       "    }\n",
       "</style>\n",
       "<table border=\"1\" class=\"dataframe\">\n",
       "  <thead>\n",
       "    <tr style=\"text-align: right;\">\n",
       "      <th></th>\n",
       "      <th>count</th>\n",
       "      <th>unique</th>\n",
       "      <th>top</th>\n",
       "      <th>freq</th>\n",
       "    </tr>\n",
       "  </thead>\n",
       "  <tbody>\n",
       "    <tr>\n",
       "      <th>App</th>\n",
       "      <td>10841</td>\n",
       "      <td>9660</td>\n",
       "      <td>ROBLOX</td>\n",
       "      <td>9</td>\n",
       "    </tr>\n",
       "    <tr>\n",
       "      <th>Category</th>\n",
       "      <td>10841</td>\n",
       "      <td>34</td>\n",
       "      <td>FAMILY</td>\n",
       "      <td>1972</td>\n",
       "    </tr>\n",
       "    <tr>\n",
       "      <th>Reviews</th>\n",
       "      <td>10841</td>\n",
       "      <td>6002</td>\n",
       "      <td>0</td>\n",
       "      <td>596</td>\n",
       "    </tr>\n",
       "    <tr>\n",
       "      <th>Size</th>\n",
       "      <td>10841</td>\n",
       "      <td>462</td>\n",
       "      <td>Varies with device</td>\n",
       "      <td>1695</td>\n",
       "    </tr>\n",
       "    <tr>\n",
       "      <th>Installs</th>\n",
       "      <td>10841</td>\n",
       "      <td>22</td>\n",
       "      <td>1,000,000+</td>\n",
       "      <td>1579</td>\n",
       "    </tr>\n",
       "    <tr>\n",
       "      <th>Type</th>\n",
       "      <td>10840</td>\n",
       "      <td>3</td>\n",
       "      <td>Free</td>\n",
       "      <td>10039</td>\n",
       "    </tr>\n",
       "    <tr>\n",
       "      <th>Price</th>\n",
       "      <td>10841</td>\n",
       "      <td>93</td>\n",
       "      <td>0</td>\n",
       "      <td>10040</td>\n",
       "    </tr>\n",
       "    <tr>\n",
       "      <th>Content Rating</th>\n",
       "      <td>10840</td>\n",
       "      <td>6</td>\n",
       "      <td>Everyone</td>\n",
       "      <td>8714</td>\n",
       "    </tr>\n",
       "    <tr>\n",
       "      <th>Genres</th>\n",
       "      <td>10841</td>\n",
       "      <td>120</td>\n",
       "      <td>Tools</td>\n",
       "      <td>842</td>\n",
       "    </tr>\n",
       "    <tr>\n",
       "      <th>Last Updated</th>\n",
       "      <td>10841</td>\n",
       "      <td>1378</td>\n",
       "      <td>August 3, 2018</td>\n",
       "      <td>326</td>\n",
       "    </tr>\n",
       "    <tr>\n",
       "      <th>Current Ver</th>\n",
       "      <td>10833</td>\n",
       "      <td>2832</td>\n",
       "      <td>Varies with device</td>\n",
       "      <td>1459</td>\n",
       "    </tr>\n",
       "    <tr>\n",
       "      <th>Android Ver</th>\n",
       "      <td>10838</td>\n",
       "      <td>33</td>\n",
       "      <td>4.1 and up</td>\n",
       "      <td>2451</td>\n",
       "    </tr>\n",
       "  </tbody>\n",
       "</table>\n",
       "</div>"
      ],
      "text/plain": [
       "                count unique                 top   freq\n",
       "App             10841   9660              ROBLOX      9\n",
       "Category        10841     34              FAMILY   1972\n",
       "Reviews         10841   6002                   0    596\n",
       "Size            10841    462  Varies with device   1695\n",
       "Installs        10841     22          1,000,000+   1579\n",
       "Type            10840      3                Free  10039\n",
       "Price           10841     93                   0  10040\n",
       "Content Rating  10840      6            Everyone   8714\n",
       "Genres          10841    120               Tools    842\n",
       "Last Updated    10841   1378      August 3, 2018    326\n",
       "Current Ver     10833   2832  Varies with device   1459\n",
       "Android Ver     10838     33          4.1 and up   2451"
      ]
     },
     "execution_count": 8,
     "metadata": {},
     "output_type": "execute_result"
    }
   ],
   "source": [
    "df.describe(include='object').T "
   ]
  },
  {
   "cell_type": "markdown",
   "id": "0c6c73f4",
   "metadata": {},
   "source": [
    "<b><font color='green'> Inferences:\n",
    "\n",
    "- App: There are 10,841 entries. It seems to represent the names of different applications. There are 9,660 unique applications, and 'ROBLOX' is the most frequent app name, occurring 9 times.\n",
    "- Category: There are 34 unique categories, with 'FAMILY' being the most frequent category, appearing 1,972 times.\n",
    "- Reviews: There are 6,002 unique review counts. The most common review count is 0, appearing 596 times.\n",
    "- Size: 'Varies with device' appears 1,695 times, and there are 462 unique sizes. It seems that there is a considerable number of apps with variable sizes.\n",
    "- Installs: There are 22 unique install counts. The most frequent install count is '1,000,000+', occurring 1,579 times.\n",
    "- Type: There are 3 unique types. 'Free' is the most common type, appearing 10,039 times.\n",
    "- Price: There are 93 unique price points. The most common price is 0, occurring 10,040 times.\n",
    "- Content Rating: There are 6 unique content ratings. 'Everyone' is the most frequent content rating, appearing 8,714 times.\n",
    "- Genres: There are 120 unique genres. 'Tools' is the most common genre, appearing 842 times.\n",
    "- Last Updated: There are 1,378 unique last updated dates. 'August 3, 2018' is the most frequent date, occurring 326 times.\n",
    "- Current Ver: There are 2,832 unique versions. 'Varies with device' is the most frequent version, appearing 1,459 times.\n",
    "- Android Ver: There are 33 unique Android versions. '4.1 and up' is the most frequent version, occurring 2,451 times.\n",
    "  "
   ]
  },
  {
   "cell_type": "code",
   "execution_count": 9,
   "id": "fe3fa6dc",
   "metadata": {
    "ExecuteTime": {
     "end_time": "2023-11-21T07:03:53.507382Z",
     "start_time": "2023-11-21T07:03:53.493602Z"
    }
   },
   "outputs": [
    {
     "data": {
      "text/plain": [
       "Index(['App', 'Category', 'Reviews', 'Size', 'Installs', 'Type', 'Price',\n",
       "       'Content Rating', 'Genres', 'Last Updated', 'Current Ver',\n",
       "       'Android Ver'],\n",
       "      dtype='object')"
      ]
     },
     "execution_count": 9,
     "metadata": {},
     "output_type": "execute_result"
    }
   ],
   "source": [
    "df.select_dtypes(include='object').columns "
   ]
  },
  {
   "cell_type": "markdown",
   "id": "64c28577",
   "metadata": {},
   "source": [
    "<b> Inferences: \n",
    "    \n",
    "<b><font color='green'> ~ All the categorical columns seems relavant for the process of model building (we need to encode them accordingly using Label encoding or by creating dummies(One hot encoding))"
   ]
  },
  {
   "cell_type": "markdown",
   "id": "331abf7b",
   "metadata": {},
   "source": [
    "# 4. Check if there are any duplicate records in the dataset? if any drop them.\n"
   ]
  },
  {
   "cell_type": "code",
   "execution_count": 10,
   "id": "13a52093",
   "metadata": {
    "ExecuteTime": {
     "end_time": "2023-11-21T07:03:53.550423Z",
     "start_time": "2023-11-21T07:03:53.516662Z"
    }
   },
   "outputs": [
    {
     "data": {
      "text/plain": [
       "(483, 13)"
      ]
     },
     "execution_count": 10,
     "metadata": {},
     "output_type": "execute_result"
    }
   ],
   "source": [
    "df[df.duplicated()].shape  "
   ]
  },
  {
   "cell_type": "markdown",
   "id": "75c5d78f",
   "metadata": {},
   "source": [
    "<b><font color=\"green\"> There are a total of 483 duplicate values, however there has to be a column which uniquely identified the data . Based on Key Column: Removing duplicates based on specific column(here 'App'), keeping unique values in those columns."
   ]
  },
  {
   "cell_type": "code",
   "execution_count": 11,
   "id": "288c2d60",
   "metadata": {
    "ExecuteTime": {
     "end_time": "2023-11-21T07:03:53.564476Z",
     "start_time": "2023-11-21T07:03:53.554424Z"
    }
   },
   "outputs": [
    {
     "data": {
      "text/plain": [
       "(10841, 13)"
      ]
     },
     "execution_count": 11,
     "metadata": {},
     "output_type": "execute_result"
    }
   ],
   "source": [
    "df.shape "
   ]
  },
  {
   "cell_type": "markdown",
   "id": "5fddd47f",
   "metadata": {
    "ExecuteTime": {
     "end_time": "2023-11-20T06:17:14.082814Z",
     "start_time": "2023-11-20T06:17:14.073881Z"
    }
   },
   "source": [
    "<b><font color=\"green\">~ shape of the data before removing duplicates"
   ]
  },
  {
   "cell_type": "code",
   "execution_count": 12,
   "id": "ddf6f840",
   "metadata": {
    "ExecuteTime": {
     "end_time": "2023-11-21T07:03:53.584740Z",
     "start_time": "2023-11-21T07:03:53.569479Z"
    }
   },
   "outputs": [],
   "source": [
    "df=df.drop_duplicates(subset=['App'],keep='first') "
   ]
  },
  {
   "cell_type": "code",
   "execution_count": 13,
   "id": "7fa6c411",
   "metadata": {
    "ExecuteTime": {
     "end_time": "2023-11-21T07:03:53.608590Z",
     "start_time": "2023-11-21T07:03:53.591742Z"
    }
   },
   "outputs": [
    {
     "data": {
      "text/plain": [
       "(9660, 13)"
      ]
     },
     "execution_count": 13,
     "metadata": {},
     "output_type": "execute_result"
    }
   ],
   "source": [
    "df.shape "
   ]
  },
  {
   "cell_type": "markdown",
   "id": "6d83b778",
   "metadata": {
    "ExecuteTime": {
     "end_time": "2023-11-20T06:15:41.076886Z",
     "start_time": "2023-11-20T06:15:41.076886Z"
    }
   },
   "source": [
    "<b><font color=\"green\"> ~ we are left with 9660 rows after removing duplicates based on the App.\n"
   ]
  },
  {
   "cell_type": "markdown",
   "id": "82758471",
   "metadata": {},
   "source": [
    "# 5. Check the unique categories of the column 'Category', Is there any invalid category? If yes, drop them.\n"
   ]
  },
  {
   "cell_type": "code",
   "execution_count": 14,
   "id": "a7e9d973",
   "metadata": {
    "ExecuteTime": {
     "end_time": "2023-11-21T07:03:53.627536Z",
     "start_time": "2023-11-21T07:03:53.615037Z"
    }
   },
   "outputs": [
    {
     "data": {
      "text/plain": [
       "array(['ART_AND_DESIGN', 'AUTO_AND_VEHICLES', 'BEAUTY',\n",
       "       'BOOKS_AND_REFERENCE', 'BUSINESS', 'COMICS', 'COMMUNICATION',\n",
       "       'DATING', 'EDUCATION', 'ENTERTAINMENT', 'EVENTS', 'FINANCE',\n",
       "       'FOOD_AND_DRINK', 'HEALTH_AND_FITNESS', 'HOUSE_AND_HOME',\n",
       "       'LIBRARIES_AND_DEMO', 'LIFESTYLE', 'GAME', 'FAMILY', 'MEDICAL',\n",
       "       'SOCIAL', 'SHOPPING', 'PHOTOGRAPHY', 'SPORTS', 'TRAVEL_AND_LOCAL',\n",
       "       'TOOLS', 'PERSONALIZATION', 'PRODUCTIVITY', 'PARENTING', 'WEATHER',\n",
       "       'VIDEO_PLAYERS', 'NEWS_AND_MAGAZINES', 'MAPS_AND_NAVIGATION',\n",
       "       '1.9'], dtype=object)"
      ]
     },
     "execution_count": 14,
     "metadata": {},
     "output_type": "execute_result"
    }
   ],
   "source": [
    "df['Category'].unique()"
   ]
  },
  {
   "cell_type": "code",
   "execution_count": 15,
   "id": "52684cf6",
   "metadata": {
    "ExecuteTime": {
     "end_time": "2023-11-21T07:03:53.647981Z",
     "start_time": "2023-11-21T07:03:53.631948Z"
    }
   },
   "outputs": [
    {
     "data": {
      "text/plain": [
       "Category\n",
       "FAMILY                 1832\n",
       "GAME                    959\n",
       "TOOLS                   827\n",
       "BUSINESS                420\n",
       "MEDICAL                 395\n",
       "PERSONALIZATION         376\n",
       "PRODUCTIVITY            374\n",
       "LIFESTYLE               369\n",
       "FINANCE                 345\n",
       "SPORTS                  325\n",
       "COMMUNICATION           315\n",
       "HEALTH_AND_FITNESS      288\n",
       "PHOTOGRAPHY             281\n",
       "NEWS_AND_MAGAZINES      254\n",
       "SOCIAL                  239\n",
       "BOOKS_AND_REFERENCE     222\n",
       "TRAVEL_AND_LOCAL        219\n",
       "SHOPPING                202\n",
       "DATING                  171\n",
       "VIDEO_PLAYERS           163\n",
       "MAPS_AND_NAVIGATION     131\n",
       "EDUCATION               119\n",
       "FOOD_AND_DRINK          112\n",
       "ENTERTAINMENT           102\n",
       "AUTO_AND_VEHICLES        85\n",
       "LIBRARIES_AND_DEMO       84\n",
       "WEATHER                  79\n",
       "HOUSE_AND_HOME           74\n",
       "ART_AND_DESIGN           64\n",
       "EVENTS                   64\n",
       "PARENTING                60\n",
       "COMICS                   56\n",
       "BEAUTY                   53\n",
       "1.9                       1\n",
       "Name: count, dtype: int64"
      ]
     },
     "execution_count": 15,
     "metadata": {},
     "output_type": "execute_result"
    }
   ],
   "source": [
    "df['Category'].value_counts()"
   ]
  },
  {
   "cell_type": "markdown",
   "id": "88510188",
   "metadata": {},
   "source": [
    "<b><font color='green'> ~ There is one instane of category which is invalid \"1.9\". We cam drop that instance."
   ]
  },
  {
   "cell_type": "code",
   "execution_count": 16,
   "id": "7505f0f2",
   "metadata": {
    "ExecuteTime": {
     "end_time": "2023-11-21T07:03:53.672405Z",
     "start_time": "2023-11-21T07:03:53.652983Z"
    }
   },
   "outputs": [
    {
     "data": {
      "text/plain": [
       "Index([10472], dtype='int64')"
      ]
     },
     "execution_count": 16,
     "metadata": {},
     "output_type": "execute_result"
    }
   ],
   "source": [
    "inval = df[df['Category'] == '1.9'].index \n",
    "inval "
   ]
  },
  {
   "cell_type": "code",
   "execution_count": 17,
   "id": "f2c000e2",
   "metadata": {
    "ExecuteTime": {
     "end_time": "2023-11-21T07:03:53.691109Z",
     "start_time": "2023-11-21T07:03:53.677407Z"
    }
   },
   "outputs": [],
   "source": [
    "df.drop(inval,inplace=True)"
   ]
  },
  {
   "cell_type": "code",
   "execution_count": 18,
   "id": "7f96d009",
   "metadata": {
    "ExecuteTime": {
     "end_time": "2023-11-21T07:03:53.707918Z",
     "start_time": "2023-11-21T07:03:53.696112Z"
    }
   },
   "outputs": [
    {
     "data": {
      "text/plain": [
       "(9659, 13)"
      ]
     },
     "execution_count": 18,
     "metadata": {},
     "output_type": "execute_result"
    }
   ],
   "source": [
    "df.shape "
   ]
  },
  {
   "cell_type": "markdown",
   "id": "16a0a91a",
   "metadata": {},
   "source": [
    "# 6. Check if there are missing values present in the column Rating, If any? drop them and and create a new column as 'Rating_category' by converting ratings to high and low categories(>3.5 is high rest low)"
   ]
  },
  {
   "cell_type": "code",
   "execution_count": 19,
   "id": "14d9cdbd",
   "metadata": {
    "ExecuteTime": {
     "end_time": "2023-11-21T07:03:53.732315Z",
     "start_time": "2023-11-21T07:03:53.714203Z"
    }
   },
   "outputs": [
    {
     "data": {
      "text/plain": [
       "1463"
      ]
     },
     "execution_count": 19,
     "metadata": {},
     "output_type": "execute_result"
    }
   ],
   "source": [
    "df['Rating'].isnull().sum() "
   ]
  },
  {
   "cell_type": "markdown",
   "id": "96e42090",
   "metadata": {},
   "source": [
    "<b><font color='green'>~ There are a total of 1463 null values in the column Rating."
   ]
  },
  {
   "cell_type": "code",
   "execution_count": 20,
   "id": "851c19bb",
   "metadata": {
    "ExecuteTime": {
     "end_time": "2023-11-21T07:03:53.753125Z",
     "start_time": "2023-11-21T07:03:53.739318Z"
    }
   },
   "outputs": [],
   "source": [
    "df.dropna(subset='Rating',inplace=True)"
   ]
  },
  {
   "cell_type": "code",
   "execution_count": 21,
   "id": "dbd5fe39",
   "metadata": {
    "ExecuteTime": {
     "end_time": "2023-11-21T07:03:53.768238Z",
     "start_time": "2023-11-21T07:03:53.757126Z"
    }
   },
   "outputs": [
    {
     "data": {
      "text/plain": [
       "(8196, 13)"
      ]
     },
     "execution_count": 21,
     "metadata": {},
     "output_type": "execute_result"
    }
   ],
   "source": [
    "df.shape "
   ]
  },
  {
   "cell_type": "markdown",
   "id": "cb273b9e",
   "metadata": {},
   "source": [
    "<b><font color='green'> After having removed(droped) the '1463' null values from the Rating column we are left with '8196' rows "
   ]
  },
  {
   "cell_type": "code",
   "execution_count": 22,
   "id": "3ffd866d",
   "metadata": {
    "ExecuteTime": {
     "end_time": "2023-11-21T07:03:53.785157Z",
     "start_time": "2023-11-21T07:03:53.774241Z"
    }
   },
   "outputs": [],
   "source": [
    "#Create a new column 'Rating_category'\n",
    "#using where to apply condition and map data\n",
    "\n",
    "df['Rating_category'] = np.where(df['Rating'] > 3.5,'high','low')"
   ]
  },
  {
   "cell_type": "code",
   "execution_count": 23,
   "id": "4a5da23b",
   "metadata": {
    "ExecuteTime": {
     "end_time": "2023-11-21T07:03:53.813552Z",
     "start_time": "2023-11-21T07:03:53.790158Z"
    }
   },
   "outputs": [
    {
     "data": {
      "text/plain": [
       "Rating_category\n",
       "high    7322\n",
       "low      874\n",
       "Name: count, dtype: int64"
      ]
     },
     "execution_count": 23,
     "metadata": {},
     "output_type": "execute_result"
    }
   ],
   "source": [
    "df['Rating_category'].value_counts() "
   ]
  },
  {
   "cell_type": "markdown",
   "id": "1f60a508",
   "metadata": {},
   "source": [
    "<b><font color='green'> ~ Created a new column 'Column_rating' where the values are maped based on the the condition that if 'Rating' >3.5 the column rating is high else its low.\n",
    "    \n",
    "<b><font color='green'>~ Thus there are 7322 column ratings that are 'high' and 874 column ratings that are 'low'"
   ]
  },
  {
   "cell_type": "markdown",
   "id": "bccbd448",
   "metadata": {},
   "source": [
    "# 7. Check the distribution of the newly created column 'Rating_category' and comment on the distribution. "
   ]
  },
  {
   "cell_type": "code",
   "execution_count": 24,
   "id": "995f33bf",
   "metadata": {
    "ExecuteTime": {
     "end_time": "2023-11-21T07:03:54.399928Z",
     "start_time": "2023-11-21T07:03:53.820156Z"
    }
   },
   "outputs": [
    {
     "data": {
      "image/png": "[encoded data removed]",
      "text/plain": [
       "<Figure size 500x500 with 1 Axes>"
      ]
     },
     "metadata": {},
     "output_type": "display_data"
    }
   ],
   "source": [
    "sns.displot(df['Rating_category'])\n",
    "plt.text(x=-0.05, y= df['Rating_category'].value_counts()[0], s=df['Rating_category'].value_counts()[0])  \n",
    "plt.text(x=0.95, y= df['Rating_category'].value_counts()[1], s=df['Rating_category'].value_counts()[1])\n",
    "plt.show() "
   ]
  },
  {
   "cell_type": "code",
   "execution_count": 25,
   "id": "c67502ba",
   "metadata": {
    "ExecuteTime": {
     "end_time": "2023-11-21T07:03:54.419263Z",
     "start_time": "2023-11-21T07:03:54.399928Z"
    }
   },
   "outputs": [
    {
     "data": {
      "text/plain": [
       "Rating_category\n",
       "high    7322\n",
       "low      874\n",
       "Name: count, dtype: int64"
      ]
     },
     "execution_count": 25,
     "metadata": {},
     "output_type": "execute_result"
    }
   ],
   "source": [
    "df['Rating_category'].value_counts() "
   ]
  },
  {
   "cell_type": "markdown",
   "id": "8cd53835",
   "metadata": {},
   "source": [
    "<b><font color='green'> ~For the categorical column 'Rating_category' we can infer that there are two unique values 'high' and 'low' each having a count of '7322' and '874' respectively. "
   ]
  },
  {
   "cell_type": "markdown",
   "id": "428ec22b",
   "metadata": {},
   "source": [
    "# 8. Converting the column \"Reviews'' to numeric data type and check the presence of outliers in the column and handle the outliers using a transformation approach.(Hint: Use log transformation) "
   ]
  },
  {
   "cell_type": "code",
   "execution_count": 26,
   "id": "d008ac39",
   "metadata": {
    "ExecuteTime": {
     "end_time": "2023-11-21T07:03:54.445779Z",
     "start_time": "2023-11-21T07:03:54.425266Z"
    }
   },
   "outputs": [],
   "source": [
    "df['Reviews'] = pd.to_numeric(df['Reviews'],errors='coerce')"
   ]
  },
  {
   "cell_type": "code",
   "execution_count": 27,
   "id": "59b85df3",
   "metadata": {
    "ExecuteTime": {
     "end_time": "2023-11-21T07:03:54.481366Z",
     "start_time": "2023-11-21T07:03:54.471716Z"
    }
   },
   "outputs": [
    {
     "data": {
      "text/plain": [
       "dtype('int64')"
      ]
     },
     "execution_count": 27,
     "metadata": {},
     "output_type": "execute_result"
    }
   ],
   "source": [
    "df['Reviews'].dtype "
   ]
  },
  {
   "cell_type": "code",
   "execution_count": 28,
   "id": "4750ea76",
   "metadata": {
    "ExecuteTime": {
     "end_time": "2023-11-21T07:03:54.785655Z",
     "start_time": "2023-11-21T07:03:54.487772Z"
    }
   },
   "outputs": [
    {
     "data": {
      "text/plain": [
       "<Axes: xlabel='Reviews'>"
      ]
     },
     "execution_count": 28,
     "metadata": {},
     "output_type": "execute_result"
    },
    {
     "data": {
      "image/png": "[encoded data removed]",
      "text/plain": [
       "<Figure size 640x480 with 1 Axes>"
      ]
     },
     "metadata": {},
     "output_type": "display_data"
    }
   ],
   "source": [
    "sns.boxplot(data=df,x=df['Reviews'])"
   ]
  },
  {
   "cell_type": "code",
   "execution_count": 29,
   "id": "17f56a77",
   "metadata": {
    "ExecuteTime": {
     "end_time": "2023-11-21T07:03:55.472721Z",
     "start_time": "2023-11-21T07:03:54.790978Z"
    }
   },
   "outputs": [
    {
     "data": {
      "text/plain": [
       "<Axes: xlabel='Reviews', ylabel='Density'>"
      ]
     },
     "execution_count": 29,
     "metadata": {},
     "output_type": "execute_result"
    },
    {
     "data": {
      "image/png": "[encoded data removed]",
      "text/plain": [
       "<Figure size 640x480 with 1 Axes>"
      ]
     },
     "metadata": {},
     "output_type": "display_data"
    }
   ],
   "source": [
    "sns.kdeplot(data=df,x=df['Reviews'])"
   ]
  },
  {
   "cell_type": "markdown",
   "id": "651de629",
   "metadata": {},
   "source": [
    "<b><font color ='green'> ~ from the distribution we can clearly see that the data('Reviews' column) is Right Skewed.Moreover the box plot indicates the presence of outliers.\n",
    "    \n",
    "<b><font color='green'>~ Thus performing log transformation for the column 'Reviews'"
   ]
  },
  {
   "cell_type": "code",
   "execution_count": 30,
   "id": "62f2eb50",
   "metadata": {
    "ExecuteTime": {
     "end_time": "2023-11-21T07:03:55.490497Z",
     "start_time": "2023-11-21T07:03:55.478116Z"
    }
   },
   "outputs": [],
   "source": [
    "df1 = df.copy()  #creating a copy of the original data frame df "
   ]
  },
  {
   "cell_type": "code",
   "execution_count": 31,
   "id": "5dacdf96",
   "metadata": {
    "ExecuteTime": {
     "end_time": "2023-11-21T07:03:55.503850Z",
     "start_time": "2023-11-21T07:03:55.494500Z"
    }
   },
   "outputs": [],
   "source": [
    "#defining a function to find the upper and lower wisker \n",
    "\n",
    "def outliers(col):\n",
    "     \n",
    "    q1,q3 = np.percentile(col,[25,75])\n",
    "    iqr=q3-q1\n",
    "    \n",
    "    lw=q1-1.5*iqr\n",
    "    uw=q3+1.5*iqr\n",
    "    \n",
    "    return lw,uw\n"
   ]
  },
  {
   "cell_type": "code",
   "execution_count": 32,
   "id": "943ca429",
   "metadata": {
    "ExecuteTime": {
     "end_time": "2023-11-21T07:03:55.539030Z",
     "start_time": "2023-11-21T07:03:55.514240Z"
    }
   },
   "outputs": [
    {
     "data": {
      "text/plain": [
       "(-65404.5, 109343.5)"
      ]
     },
     "execution_count": 32,
     "metadata": {},
     "output_type": "execute_result"
    }
   ],
   "source": [
    "outliers(df1['Reviews']) "
   ]
  },
  {
   "cell_type": "code",
   "execution_count": 33,
   "id": "f1516351",
   "metadata": {
    "ExecuteTime": {
     "end_time": "2023-11-21T07:03:55.554841Z",
     "start_time": "2023-11-21T07:03:55.545031Z"
    }
   },
   "outputs": [],
   "source": [
    "lw,uw=outliers(df1['Reviews']) "
   ]
  },
  {
   "cell_type": "code",
   "execution_count": 34,
   "id": "2eb529de",
   "metadata": {
    "ExecuteTime": {
     "end_time": "2023-11-21T07:03:55.576837Z",
     "start_time": "2023-11-21T07:03:55.561341Z"
    }
   },
   "outputs": [],
   "source": [
    "df1['Reviews'] = np.where(df1['Reviews'] > uw,uw,df1['Reviews'])\n",
    "df1['Reviews'] = np.where(df1['Reviews']<lw,lw,df1['Reviews'])"
   ]
  },
  {
   "cell_type": "code",
   "execution_count": 35,
   "id": "6b956f68",
   "metadata": {
    "ExecuteTime": {
     "end_time": "2023-11-21T07:03:55.837053Z",
     "start_time": "2023-11-21T07:03:55.581842Z"
    }
   },
   "outputs": [
    {
     "data": {
      "text/plain": [
       "<Axes: xlabel='Reviews'>"
      ]
     },
     "execution_count": 35,
     "metadata": {},
     "output_type": "execute_result"
    },
    {
     "data": {
      "image/png": "[encoded data removed]",
      "text/plain": [
       "<Figure size 640x480 with 1 Axes>"
      ]
     },
     "metadata": {},
     "output_type": "display_data"
    }
   ],
   "source": [
    "sns.boxplot(data=df,x=df1['Reviews'])  "
   ]
  },
  {
   "cell_type": "code",
   "execution_count": 36,
   "id": "bb35ce3a",
   "metadata": {
    "ExecuteTime": {
     "end_time": "2023-11-21T07:03:56.444756Z",
     "start_time": "2023-11-21T07:03:55.842056Z"
    }
   },
   "outputs": [
    {
     "data": {
      "text/plain": [
       "<seaborn.axisgrid.FacetGrid at 0x1f5e7766b90>"
      ]
     },
     "execution_count": 36,
     "metadata": {},
     "output_type": "execute_result"
    },
    {
     "data": {
      "image/png": "[encoded data removed]",
      "text/plain": [
       "<Figure size 500x500 with 1 Axes>"
      ]
     },
     "metadata": {},
     "output_type": "display_data"
    }
   ],
   "source": [
    "sns.displot(data=df1,x=df1['Reviews'],kde=True)"
   ]
  },
  {
   "cell_type": "markdown",
   "id": "ff2be2b0",
   "metadata": {},
   "source": [
    "<b><font color='green'> ~ Created a copy of the original data frame 'df' to 'df1' , and handled outliers in the column 'Review' using IQR method."
   ]
  },
  {
   "cell_type": "markdown",
   "id": "c8790db8",
   "metadata": {},
   "source": [
    "<b>~ Using log transformation in the original data frame to handle outliers for the column 'Reviews'"
   ]
  },
  {
   "cell_type": "code",
   "execution_count": 37,
   "id": "09f74bfb",
   "metadata": {
    "ExecuteTime": {
     "end_time": "2023-11-21T07:03:56.470135Z",
     "start_time": "2023-11-21T07:03:56.444756Z"
    }
   },
   "outputs": [
    {
     "data": {
      "text/plain": [
       "0        2.201397\n",
       "1        2.985426\n",
       "2        4.942058\n",
       "3        5.333737\n",
       "4        2.985426\n",
       "           ...   \n",
       "10834    0.845098\n",
       "10836    1.579784\n",
       "10837    0.602060\n",
       "10839    2.056905\n",
       "10840    5.600218\n",
       "Name: Reviews, Length: 8196, dtype: float64"
      ]
     },
     "execution_count": 37,
     "metadata": {},
     "output_type": "execute_result"
    }
   ],
   "source": [
    "df['Reviews'] = np.log10(df['Reviews'])\n",
    "df['Reviews'] "
   ]
  },
  {
   "cell_type": "code",
   "execution_count": 38,
   "id": "f636a313",
   "metadata": {
    "ExecuteTime": {
     "end_time": "2023-11-21T07:03:57.296054Z",
     "start_time": "2023-11-21T07:03:56.476136Z"
    }
   },
   "outputs": [
    {
     "data": {
      "text/plain": [
       "<seaborn.axisgrid.FacetGrid at 0x1f5e7f0e150>"
      ]
     },
     "execution_count": 38,
     "metadata": {},
     "output_type": "execute_result"
    },
    {
     "data": {
      "image/png": "[encoded data removed]",
      "text/plain": [
       "<Figure size 500x500 with 1 Axes>"
      ]
     },
     "metadata": {},
     "output_type": "display_data"
    }
   ],
   "source": [
    "sns.displot(data=df,x=df['Reviews'],kde=True) "
   ]
  },
  {
   "cell_type": "markdown",
   "id": "fd43cd71",
   "metadata": {},
   "source": [
    "<b><font color='green'> ~ Thus we can see using the logarithmic transformation of the column 'Review' the data points are normalized to a great extend."
   ]
  },
  {
   "cell_type": "markdown",
   "id": "188a397d",
   "metadata": {},
   "source": [
    "# 9. The column 'Size' contains alphanumeric values, treat the non numeric data and convert the column into suitable data type. (hint: Replace M with 1 million and K with 1 thousand, and drop the entries where size='Varies with device')"
   ]
  },
  {
   "cell_type": "code",
   "execution_count": 39,
   "id": "52fd54e9",
   "metadata": {
    "ExecuteTime": {
     "end_time": "2023-11-21T07:04:01.956458Z",
     "start_time": "2023-11-21T07:03:57.296054Z"
    }
   },
   "outputs": [],
   "source": [
    "df['Size']=df[\"Size\"].replace({\"K\":\"*1e3\",\"k\":\"*1e3\", \"M\":\"*1e6\", \"Varies with device\" :\"0\" }, regex=True).map(pd.eval).astype(int)"
   ]
  },
  {
   "cell_type": "code",
   "execution_count": 40,
   "id": "597a244b",
   "metadata": {
    "ExecuteTime": {
     "end_time": "2023-11-21T07:04:01.970189Z",
     "start_time": "2023-11-21T07:04:01.960204Z"
    }
   },
   "outputs": [],
   "source": [
    "zindex=df[df['Size'] == 0].index  "
   ]
  },
  {
   "cell_type": "code",
   "execution_count": 41,
   "id": "a4fd9a7f",
   "metadata": {
    "ExecuteTime": {
     "end_time": "2023-11-21T07:04:01.994809Z",
     "start_time": "2023-11-21T07:04:01.978020Z"
    }
   },
   "outputs": [],
   "source": [
    "df.drop(zindex,inplace=True)"
   ]
  },
  {
   "cell_type": "code",
   "execution_count": 42,
   "id": "b39abd8a",
   "metadata": {
    "ExecuteTime": {
     "end_time": "2023-11-21T07:04:02.011879Z",
     "start_time": "2023-11-21T07:04:02.001951Z"
    }
   },
   "outputs": [
    {
     "data": {
      "text/plain": [
       "(7027, 14)"
      ]
     },
     "execution_count": 42,
     "metadata": {},
     "output_type": "execute_result"
    }
   ],
   "source": [
    "df.shape "
   ]
  },
  {
   "cell_type": "markdown",
   "id": "d4a1bfbe",
   "metadata": {},
   "source": [
    "<b><font color=\"green\">~ Using a library to replace the values of 'K','k','M' and 'Varies with devices' with e3,e6 and 0 \n",
    "    \n",
    "<b><font color='green'>~ The map(pd.eval) function is use to apply the pandas function 'pd.eval' which evaluates a Python expression as a string and returns the result.\n",
    "    \n",
    "<b><font color='green'>~ The data type is then converted to int data type using the .astype(int) function.\n",
    "    \n",
    "<b><font color='green'>~ The rows with'Size'== 0 is then droped by extracting the index and droping it using .drop "
   ]
  },
  {
   "cell_type": "markdown",
   "id": "43d7245d",
   "metadata": {},
   "source": [
    "# 10. Check the column 'Installs', treat the unwanted characters and convert the column into a suitable data type."
   ]
  },
  {
   "cell_type": "code",
   "execution_count": 43,
   "id": "2fe1aaa5",
   "metadata": {
    "ExecuteTime": {
     "end_time": "2023-11-21T07:04:02.033590Z",
     "start_time": "2023-11-21T07:04:02.018674Z"
    }
   },
   "outputs": [
    {
     "data": {
      "text/plain": [
       "Installs\n",
       "1,000,000+        1175\n",
       "100,000+           989\n",
       "10,000+            948\n",
       "1,000+             674\n",
       "10,000,000+        646\n",
       "500,000+           461\n",
       "5,000,000+         450\n",
       "50,000+            427\n",
       "5,000+             413\n",
       "100+               297\n",
       "500+               195\n",
       "50,000,000+        111\n",
       "100,000,000+        96\n",
       "10+                 67\n",
       "50+                 56\n",
       "5+                   9\n",
       "500,000,000+         8\n",
       "1+                   3\n",
       "1,000,000,000+       2\n",
       "Name: count, dtype: int64"
      ]
     },
     "execution_count": 43,
     "metadata": {},
     "output_type": "execute_result"
    }
   ],
   "source": [
    "df['Installs'].value_counts()"
   ]
  },
  {
   "cell_type": "code",
   "execution_count": 44,
   "id": "f4fec44a",
   "metadata": {
    "ExecuteTime": {
     "end_time": "2023-11-21T07:04:02.062103Z",
     "start_time": "2023-11-21T07:04:02.045324Z"
    }
   },
   "outputs": [
    {
     "data": {
      "text/plain": [
       "array(['10,000+', '500,000+', '5,000,000+', '50,000,000+', '100,000+',\n",
       "       '50,000+', '1,000,000+', '10,000,000+', '5,000+', '100,000,000+',\n",
       "       '1,000+', '500,000,000+', '100+', '500+', '10+', '1,000,000,000+',\n",
       "       '5+', '50+', '1+'], dtype=object)"
      ]
     },
     "execution_count": 44,
     "metadata": {},
     "output_type": "execute_result"
    }
   ],
   "source": [
    "df['Installs'].unique()"
   ]
  },
  {
   "cell_type": "code",
   "execution_count": 45,
   "id": "fa7e5eb9",
   "metadata": {
    "ExecuteTime": {
     "end_time": "2023-11-21T07:04:02.092934Z",
     "start_time": "2023-11-21T07:04:02.068105Z"
    }
   },
   "outputs": [],
   "source": [
    "#itterating through the loop to remove unwanted characters '+' and ',' \n",
    "char_remove = ['+',',']\n",
    "for char in char_remove:\n",
    "    df['Installs'] = df['Installs'].str.replace(char,\"\")"
   ]
  },
  {
   "cell_type": "code",
   "execution_count": 46,
   "id": "4ccf5240",
   "metadata": {
    "ExecuteTime": {
     "end_time": "2023-11-21T07:04:02.118116Z",
     "start_time": "2023-11-21T07:04:02.099422Z"
    }
   },
   "outputs": [
    {
     "data": {
      "text/plain": [
       "array(['10000', '500000', '5000000', '50000000', '100000', '50000',\n",
       "       '1000000', '10000000', '5000', '100000000', '1000', '500000000',\n",
       "       '100', '500', '10', '1000000000', '5', '50', '1'], dtype=object)"
      ]
     },
     "execution_count": 46,
     "metadata": {},
     "output_type": "execute_result"
    }
   ],
   "source": [
    "#the unwanted characters are removed \n",
    "df['Installs'].unique()"
   ]
  },
  {
   "cell_type": "code",
   "execution_count": 47,
   "id": "aec432fb",
   "metadata": {
    "ExecuteTime": {
     "end_time": "2023-11-21T07:04:02.141195Z",
     "start_time": "2023-11-21T07:04:02.125126Z"
    }
   },
   "outputs": [
    {
     "data": {
      "text/plain": [
       "dtype('int32')"
      ]
     },
     "execution_count": 47,
     "metadata": {},
     "output_type": "execute_result"
    }
   ],
   "source": [
    "#converting the data type from object to int\n",
    "df['Installs']=df['Installs'].astype(int)\n",
    "df['Installs'].dtypes "
   ]
  },
  {
   "cell_type": "markdown",
   "id": "b5120005",
   "metadata": {},
   "source": [
    "# 11. Check the column 'Price' , remove the unwanted characters and convert the column into a suitable data type."
   ]
  },
  {
   "cell_type": "code",
   "execution_count": 48,
   "id": "30e2fde0",
   "metadata": {
    "ExecuteTime": {
     "end_time": "2023-11-21T07:04:02.166809Z",
     "start_time": "2023-11-21T07:04:02.145544Z"
    }
   },
   "outputs": [
    {
     "data": {
      "text/plain": [
       "Price\n",
       "0          6486\n",
       "$0.99       103\n",
       "$2.99        97\n",
       "$4.99        61\n",
       "$1.99        53\n",
       "           ... \n",
       "$6.49         1\n",
       "$1.29         1\n",
       "$299.99       1\n",
       "$7.49         1\n",
       "$1.20         1\n",
       "Name: count, Length: 68, dtype: int64"
      ]
     },
     "execution_count": 48,
     "metadata": {},
     "output_type": "execute_result"
    }
   ],
   "source": [
    "df['Price'].value_counts()"
   ]
  },
  {
   "cell_type": "code",
   "execution_count": 49,
   "id": "eef7cbd3",
   "metadata": {
    "ExecuteTime": {
     "end_time": "2023-11-21T07:04:02.195692Z",
     "start_time": "2023-11-21T07:04:02.170812Z"
    }
   },
   "outputs": [
    {
     "data": {
      "text/plain": [
       "array(['0', '4.99', '6.99', '7.99', '3.99', '5.99', '2.99', '1.99',\n",
       "       '9.99', '0.99', '9.00', '5.49', '10.00', '24.99', '11.99', '79.99',\n",
       "       '16.99', '14.99', '29.99', '12.99', '3.49', '10.99', '7.49',\n",
       "       '1.50', '19.99', '15.99', '33.99', '39.99', '2.49', '4.49', '1.70',\n",
       "       '1.49', '3.88', '399.99', '17.99', '400.00', '3.02', '1.76',\n",
       "       '4.84', '4.77', '1.61', '1.59', '6.49', '1.29', '299.99', '379.99',\n",
       "       '37.99', '18.99', '389.99', '8.49', '1.75', '14.00', '2.00',\n",
       "       '3.08', '2.59', '19.40', '15.46', '8.99', '3.04', '13.99', '4.29',\n",
       "       '3.28', '4.60', '1.00', '2.90', '1.97', '2.56', '1.20'],\n",
       "      dtype=object)"
      ]
     },
     "execution_count": 49,
     "metadata": {},
     "output_type": "execute_result"
    }
   ],
   "source": [
    "df['Price']=df['Price'].str.replace('$',\"\")\n",
    "df['Price'].unique()"
   ]
  },
  {
   "cell_type": "code",
   "execution_count": 50,
   "id": "8c52eb92",
   "metadata": {
    "ExecuteTime": {
     "end_time": "2023-11-21T07:04:02.219613Z",
     "start_time": "2023-11-21T07:04:02.203693Z"
    }
   },
   "outputs": [
    {
     "data": {
      "text/plain": [
       "dtype('float64')"
      ]
     },
     "execution_count": 50,
     "metadata": {},
     "output_type": "execute_result"
    }
   ],
   "source": [
    "df['Price']=df['Price'].astype(float)\n",
    "df['Price'].dtypes "
   ]
  },
  {
   "cell_type": "markdown",
   "id": "d1b48c84",
   "metadata": {},
   "source": [
    "# 12. Drop the columns which you think redundant for the analysis.(suggestion: drop column 'rating', since we created a new feature from it (i.e. rating_category) and the columns 'App', 'Rating' ,'Genres','Last Updated', 'Current Ver','Android Ver' columns since which are redundant for our analysis)\n"
   ]
  },
  {
   "cell_type": "code",
   "execution_count": 51,
   "id": "6bab3725",
   "metadata": {
    "ExecuteTime": {
     "end_time": "2023-11-21T07:04:02.238438Z",
     "start_time": "2023-11-21T07:04:02.223616Z"
    }
   },
   "outputs": [
    {
     "data": {
      "text/plain": [
       "Index(['App', 'Category', 'Rating', 'Reviews', 'Size', 'Installs', 'Type',\n",
       "       'Price', 'Content Rating', 'Genres', 'Last Updated', 'Current Ver',\n",
       "       'Android Ver', 'Rating_category'],\n",
       "      dtype='object')"
      ]
     },
     "execution_count": 51,
     "metadata": {},
     "output_type": "execute_result"
    }
   ],
   "source": [
    "df.columns "
   ]
  },
  {
   "cell_type": "code",
   "execution_count": 52,
   "id": "f4fea91d",
   "metadata": {
    "ExecuteTime": {
     "end_time": "2023-11-21T07:04:02.258470Z",
     "start_time": "2023-11-21T07:04:02.248244Z"
    }
   },
   "outputs": [],
   "source": [
    "#Droppping the reduntant columns\n",
    "df.drop(['App', 'Rating' ,'Genres','Last Updated', 'Current Ver','Android Ver'],axis=1,inplace=True)"
   ]
  },
  {
   "cell_type": "code",
   "execution_count": 53,
   "id": "2ec2c5cf",
   "metadata": {
    "ExecuteTime": {
     "end_time": "2023-11-21T07:04:02.301180Z",
     "start_time": "2023-11-21T07:04:02.264093Z"
    }
   },
   "outputs": [
    {
     "data": {
      "text/plain": [
       "(7027, 8)"
      ]
     },
     "execution_count": 53,
     "metadata": {},
     "output_type": "execute_result"
    }
   ],
   "source": [
    "df.shape "
   ]
  },
  {
   "cell_type": "markdown",
   "id": "84f3338a",
   "metadata": {},
   "source": [
    "<b><font color='green'>~ After removing the redundant columns we are left with '8' columns out of the '14'"
   ]
  },
  {
   "cell_type": "markdown",
   "id": "0c21f3d2",
   "metadata": {},
   "source": [
    "# 13. Encode the categorical columns. \n"
   ]
  },
  {
   "cell_type": "code",
   "execution_count": 54,
   "id": "cb6b24d5",
   "metadata": {
    "ExecuteTime": {
     "end_time": "2023-11-21T07:04:02.336595Z",
     "start_time": "2023-11-21T07:04:02.306184Z"
    }
   },
   "outputs": [
    {
     "data": {
      "text/html": [
       "<div>\n",
       "<style scoped>\n",
       "    .dataframe tbody tr th:only-of-type {\n",
       "        vertical-align: middle;\n",
       "    }\n",
       "\n",
       "    .dataframe tbody tr th {\n",
       "        vertical-align: top;\n",
       "    }\n",
       "\n",
       "    .dataframe thead th {\n",
       "        text-align: right;\n",
       "    }\n",
       "</style>\n",
       "<table border=\"1\" class=\"dataframe\">\n",
       "  <thead>\n",
       "    <tr style=\"text-align: right;\">\n",
       "      <th></th>\n",
       "      <th>Category</th>\n",
       "      <th>Type</th>\n",
       "      <th>Content Rating</th>\n",
       "      <th>Rating_category</th>\n",
       "    </tr>\n",
       "  </thead>\n",
       "  <tbody>\n",
       "    <tr>\n",
       "      <th>0</th>\n",
       "      <td>ART_AND_DESIGN</td>\n",
       "      <td>Free</td>\n",
       "      <td>Everyone</td>\n",
       "      <td>high</td>\n",
       "    </tr>\n",
       "    <tr>\n",
       "      <th>1</th>\n",
       "      <td>ART_AND_DESIGN</td>\n",
       "      <td>Free</td>\n",
       "      <td>Everyone</td>\n",
       "      <td>high</td>\n",
       "    </tr>\n",
       "    <tr>\n",
       "      <th>2</th>\n",
       "      <td>ART_AND_DESIGN</td>\n",
       "      <td>Free</td>\n",
       "      <td>Everyone</td>\n",
       "      <td>high</td>\n",
       "    </tr>\n",
       "    <tr>\n",
       "      <th>3</th>\n",
       "      <td>ART_AND_DESIGN</td>\n",
       "      <td>Free</td>\n",
       "      <td>Teen</td>\n",
       "      <td>high</td>\n",
       "    </tr>\n",
       "    <tr>\n",
       "      <th>4</th>\n",
       "      <td>ART_AND_DESIGN</td>\n",
       "      <td>Free</td>\n",
       "      <td>Everyone</td>\n",
       "      <td>high</td>\n",
       "    </tr>\n",
       "    <tr>\n",
       "      <th>...</th>\n",
       "      <td>...</td>\n",
       "      <td>...</td>\n",
       "      <td>...</td>\n",
       "      <td>...</td>\n",
       "    </tr>\n",
       "    <tr>\n",
       "      <th>10833</th>\n",
       "      <td>BOOKS_AND_REFERENCE</td>\n",
       "      <td>Free</td>\n",
       "      <td>Everyone</td>\n",
       "      <td>high</td>\n",
       "    </tr>\n",
       "    <tr>\n",
       "      <th>10834</th>\n",
       "      <td>FAMILY</td>\n",
       "      <td>Free</td>\n",
       "      <td>Everyone</td>\n",
       "      <td>high</td>\n",
       "    </tr>\n",
       "    <tr>\n",
       "      <th>10836</th>\n",
       "      <td>FAMILY</td>\n",
       "      <td>Free</td>\n",
       "      <td>Everyone</td>\n",
       "      <td>high</td>\n",
       "    </tr>\n",
       "    <tr>\n",
       "      <th>10837</th>\n",
       "      <td>FAMILY</td>\n",
       "      <td>Free</td>\n",
       "      <td>Everyone</td>\n",
       "      <td>high</td>\n",
       "    </tr>\n",
       "    <tr>\n",
       "      <th>10840</th>\n",
       "      <td>LIFESTYLE</td>\n",
       "      <td>Free</td>\n",
       "      <td>Everyone</td>\n",
       "      <td>high</td>\n",
       "    </tr>\n",
       "  </tbody>\n",
       "</table>\n",
       "<p>7027 rows × 4 columns</p>\n",
       "</div>"
      ],
      "text/plain": [
       "                  Category  Type Content Rating Rating_category\n",
       "0           ART_AND_DESIGN  Free       Everyone            high\n",
       "1           ART_AND_DESIGN  Free       Everyone            high\n",
       "2           ART_AND_DESIGN  Free       Everyone            high\n",
       "3           ART_AND_DESIGN  Free           Teen            high\n",
       "4           ART_AND_DESIGN  Free       Everyone            high\n",
       "...                    ...   ...            ...             ...\n",
       "10833  BOOKS_AND_REFERENCE  Free       Everyone            high\n",
       "10834               FAMILY  Free       Everyone            high\n",
       "10836               FAMILY  Free       Everyone            high\n",
       "10837               FAMILY  Free       Everyone            high\n",
       "10840            LIFESTYLE  Free       Everyone            high\n",
       "\n",
       "[7027 rows x 4 columns]"
      ]
     },
     "execution_count": 54,
     "metadata": {},
     "output_type": "execute_result"
    }
   ],
   "source": [
    "df.select_dtypes(include='object')"
   ]
  },
  {
   "cell_type": "code",
   "execution_count": 55,
   "id": "fb4f1d73",
   "metadata": {
    "ExecuteTime": {
     "end_time": "2023-11-21T07:04:02.357883Z",
     "start_time": "2023-11-21T07:04:02.346734Z"
    }
   },
   "outputs": [
    {
     "data": {
      "text/plain": [
       "array(['high', 'low'], dtype=object)"
      ]
     },
     "execution_count": 55,
     "metadata": {},
     "output_type": "execute_result"
    }
   ],
   "source": [
    "#For Rating category\n",
    "df['Rating_category'].unique()"
   ]
  },
  {
   "cell_type": "code",
   "execution_count": 56,
   "id": "d806f2f1",
   "metadata": {
    "ExecuteTime": {
     "end_time": "2023-11-21T07:04:02.376405Z",
     "start_time": "2023-11-21T07:04:02.363311Z"
    }
   },
   "outputs": [],
   "source": [
    "df['Rating_category']=df['Rating_category'].map({'high':0,'low':1})"
   ]
  },
  {
   "cell_type": "code",
   "execution_count": 57,
   "id": "9064fa3c",
   "metadata": {
    "ExecuteTime": {
     "end_time": "2023-11-21T07:04:02.398314Z",
     "start_time": "2023-11-21T07:04:02.385541Z"
    }
   },
   "outputs": [
    {
     "data": {
      "text/plain": [
       "array(['Everyone', 'Teen', 'Everyone 10+', 'Mature 17+',\n",
       "       'Adults only 18+', 'Unrated'], dtype=object)"
      ]
     },
     "execution_count": 57,
     "metadata": {},
     "output_type": "execute_result"
    }
   ],
   "source": [
    "#For Content rating\n",
    "df['Content Rating'].unique()"
   ]
  },
  {
   "cell_type": "code",
   "execution_count": 58,
   "id": "c866394e",
   "metadata": {
    "ExecuteTime": {
     "end_time": "2023-11-21T07:04:02.414451Z",
     "start_time": "2023-11-21T07:04:02.402319Z"
    }
   },
   "outputs": [
    {
     "data": {
      "text/plain": [
       "array(['Free', 'Paid'], dtype=object)"
      ]
     },
     "execution_count": 58,
     "metadata": {},
     "output_type": "execute_result"
    }
   ],
   "source": [
    "#for type\n",
    "df['Type'].unique()"
   ]
  },
  {
   "cell_type": "code",
   "execution_count": 59,
   "id": "e8eb4fb0",
   "metadata": {
    "ExecuteTime": {
     "end_time": "2023-11-21T07:04:02.428554Z",
     "start_time": "2023-11-21T07:04:02.418456Z"
    }
   },
   "outputs": [],
   "source": [
    "df['Type']=df['Type'].map({'Free':0,'Paid':1})"
   ]
  },
  {
   "cell_type": "code",
   "execution_count": 60,
   "id": "2844c285",
   "metadata": {
    "ExecuteTime": {
     "end_time": "2023-11-21T07:04:02.444993Z",
     "start_time": "2023-11-21T07:04:02.433556Z"
    }
   },
   "outputs": [
    {
     "data": {
      "text/plain": [
       "array(['ART_AND_DESIGN', 'AUTO_AND_VEHICLES', 'BEAUTY',\n",
       "       'BOOKS_AND_REFERENCE', 'BUSINESS', 'COMICS', 'COMMUNICATION',\n",
       "       'DATING', 'EDUCATION', 'ENTERTAINMENT', 'EVENTS', 'FINANCE',\n",
       "       'FOOD_AND_DRINK', 'HEALTH_AND_FITNESS', 'HOUSE_AND_HOME',\n",
       "       'LIBRARIES_AND_DEMO', 'LIFESTYLE', 'GAME', 'FAMILY', 'MEDICAL',\n",
       "       'SOCIAL', 'SHOPPING', 'PHOTOGRAPHY', 'SPORTS', 'TRAVEL_AND_LOCAL',\n",
       "       'TOOLS', 'PERSONALIZATION', 'PRODUCTIVITY', 'PARENTING', 'WEATHER',\n",
       "       'VIDEO_PLAYERS', 'NEWS_AND_MAGAZINES', 'MAPS_AND_NAVIGATION'],\n",
       "      dtype=object)"
      ]
     },
     "execution_count": 60,
     "metadata": {},
     "output_type": "execute_result"
    }
   ],
   "source": [
    "#for Category \n",
    "df['Category'].unique() "
   ]
  },
  {
   "cell_type": "code",
   "execution_count": 61,
   "id": "d4352450",
   "metadata": {
    "ExecuteTime": {
     "end_time": "2023-11-21T07:04:02.477982Z",
     "start_time": "2023-11-21T07:04:02.448991Z"
    }
   },
   "outputs": [
    {
     "data": {
      "text/plain": [
       "(7027, 43)"
      ]
     },
     "execution_count": 61,
     "metadata": {},
     "output_type": "execute_result"
    }
   ],
   "source": [
    "df_dummies=pd.get_dummies(df,columns=['Category','Content Rating'],drop_first=True)\n",
    "df_dummies.shape "
   ]
  },
  {
   "cell_type": "markdown",
   "id": "37bcc41f",
   "metadata": {},
   "source": [
    "<b>Interpretation \n",
    "\n",
    "<b><font color='green'>~Found out all the categorical columns\n",
    "\n",
    "<b><font color='green'>~Label Encoding for : 'Type' and 'Rating Category'\n",
    "\n",
    "<b><font color='green'>~One Hot Encoding using pandas.get_dummies() function for : 'Category' and 'Content Rating'\n",
    "\n",
    "<b><font color='green'>~We have now encoded all the categorical variables and dropped first,so we now have 43-columns and 7027-rows    "
   ]
  },
  {
   "cell_type": "markdown",
   "id": "7e3c1aa7",
   "metadata": {},
   "source": [
    "# 14. Segregate the target and independent features (Hint: Use Rating_category as the target)"
   ]
  },
  {
   "cell_type": "code",
   "execution_count": 62,
   "id": "f29940f4",
   "metadata": {
    "ExecuteTime": {
     "end_time": "2023-11-21T07:04:02.493252Z",
     "start_time": "2023-11-21T07:04:02.483972Z"
    }
   },
   "outputs": [],
   "source": [
    "X=df_dummies.drop(columns='Rating_category')\n",
    "y=df_dummies[['Rating_category']]"
   ]
  },
  {
   "cell_type": "markdown",
   "id": "8b1092f3",
   "metadata": {},
   "source": [
    "<b><font color='green'>~While segregating the target and independent features, ensure that we supply a '2-dimensional array' for both X and y. "
   ]
  },
  {
   "cell_type": "markdown",
   "id": "90716f30",
   "metadata": {},
   "source": [
    "# 15. Split the dataset into train and test.\n"
   ]
  },
  {
   "cell_type": "code",
   "execution_count": 63,
   "id": "67697387",
   "metadata": {
    "ExecuteTime": {
     "end_time": "2023-11-21T07:04:02.520609Z",
     "start_time": "2023-11-21T07:04:02.499524Z"
    }
   },
   "outputs": [],
   "source": [
    "#using sklearn train_test_split\n",
    "X_train,X_test,y_train,y_test = train_test_split(X,y,train_size=0.70,random_state=42)"
   ]
  },
  {
   "cell_type": "markdown",
   "id": "161b1e74",
   "metadata": {},
   "source": [
    "# 16. Standardize the data, so that the values are within a particular range"
   ]
  },
  {
   "cell_type": "code",
   "execution_count": 64,
   "id": "8959b07f",
   "metadata": {
    "ExecuteTime": {
     "end_time": "2023-11-21T07:04:02.541232Z",
     "start_time": "2023-11-21T07:04:02.525614Z"
    }
   },
   "outputs": [
    {
     "data": {
      "text/html": [
       "<style>#sk-container-id-1 {color: black;}#sk-container-id-1 pre{padding: 0;}#sk-container-id-1 div.sk-toggleable {background-color: white;}#sk-container-id-1 label.sk-toggleable__label {cursor: pointer;display: block;width: 100%;margin-bottom: 0;padding: 0.3em;box-sizing: border-box;text-align: center;}#sk-container-id-1 label.sk-toggleable__label-arrow:before {content: \"▸\";float: left;margin-right: 0.25em;color: #696969;}#sk-container-id-1 label.sk-toggleable__label-arrow:hover:before {color: black;}#sk-container-id-1 div.sk-estimator:hover label.sk-toggleable__label-arrow:before {color: black;}#sk-container-id-1 div.sk-toggleable__content {max-height: 0;max-width: 0;overflow: hidden;text-align: left;background-color: #f0f8ff;}#sk-container-id-1 div.sk-toggleable__content pre {margin: 0.2em;color: black;border-radius: 0.25em;background-color: #f0f8ff;}#sk-container-id-1 input.sk-toggleable__control:checked~div.sk-toggleable__content {max-height: 200px;max-width: 100%;overflow: auto;}#sk-container-id-1 input.sk-toggleable__control:checked~label.sk-toggleable__label-arrow:before {content: \"▾\";}#sk-container-id-1 div.sk-estimator input.sk-toggleable__control:checked~label.sk-toggleable__label {background-color: #d4ebff;}#sk-container-id-1 div.sk-label input.sk-toggleable__control:checked~label.sk-toggleable__label {background-color: #d4ebff;}#sk-container-id-1 input.sk-hidden--visually {border: 0;clip: rect(1px 1px 1px 1px);clip: rect(1px, 1px, 1px, 1px);height: 1px;margin: -1px;overflow: hidden;padding: 0;position: absolute;width: 1px;}#sk-container-id-1 div.sk-estimator {font-family: monospace;background-color: #f0f8ff;border: 1px dotted black;border-radius: 0.25em;box-sizing: border-box;margin-bottom: 0.5em;}#sk-container-id-1 div.sk-estimator:hover {background-color: #d4ebff;}#sk-container-id-1 div.sk-parallel-item::after {content: \"\";width: 100%;border-bottom: 1px solid gray;flex-grow: 1;}#sk-container-id-1 div.sk-label:hover label.sk-toggleable__label {background-color: #d4ebff;}#sk-container-id-1 div.sk-serial::before {content: \"\";position: absolute;border-left: 1px solid gray;box-sizing: border-box;top: 0;bottom: 0;left: 50%;z-index: 0;}#sk-container-id-1 div.sk-serial {display: flex;flex-direction: column;align-items: center;background-color: white;padding-right: 0.2em;padding-left: 0.2em;position: relative;}#sk-container-id-1 div.sk-item {position: relative;z-index: 1;}#sk-container-id-1 div.sk-parallel {display: flex;align-items: stretch;justify-content: center;background-color: white;position: relative;}#sk-container-id-1 div.sk-item::before, #sk-container-id-1 div.sk-parallel-item::before {content: \"\";position: absolute;border-left: 1px solid gray;box-sizing: border-box;top: 0;bottom: 0;left: 50%;z-index: -1;}#sk-container-id-1 div.sk-parallel-item {display: flex;flex-direction: column;z-index: 1;position: relative;background-color: white;}#sk-container-id-1 div.sk-parallel-item:first-child::after {align-self: flex-end;width: 50%;}#sk-container-id-1 div.sk-parallel-item:last-child::after {align-self: flex-start;width: 50%;}#sk-container-id-1 div.sk-parallel-item:only-child::after {width: 0;}#sk-container-id-1 div.sk-dashed-wrapped {border: 1px dashed gray;margin: 0 0.4em 0.5em 0.4em;box-sizing: border-box;padding-bottom: 0.4em;background-color: white;}#sk-container-id-1 div.sk-label label {font-family: monospace;font-weight: bold;display: inline-block;line-height: 1.2em;}#sk-container-id-1 div.sk-label-container {text-align: center;}#sk-container-id-1 div.sk-container {/* jupyter's `normalize.less` sets `[hidden] { display: none; }` but bootstrap.min.css set `[hidden] { display: none !important; }` so we also need the `!important` here to be able to override the default hidden behavior on the sphinx rendered scikit-learn.org. See: https://github.com/scikit-learn/scikit-learn/issues/21755 */display: inline-block !important;position: relative;}#sk-container-id-1 div.sk-text-repr-fallback {display: none;}</style><div id=\"sk-container-id-1\" class=\"sk-top-container\"><div class=\"sk-text-repr-fallback\"><pre>StandardScaler()</pre><b>In a Jupyter environment, please rerun this cell to show the HTML representation or trust the notebook. <br />On GitHub, the HTML representation is unable to render, please try loading this page with nbviewer.org.</b></div><div class=\"sk-container\" hidden><div class=\"sk-item\"><div class=\"sk-estimator sk-toggleable\"><input class=\"sk-toggleable__control sk-hidden--visually\" id=\"sk-estimator-id-1\" type=\"checkbox\" checked><label for=\"sk-estimator-id-1\" class=\"sk-toggleable__label sk-toggleable__label-arrow\">StandardScaler</label><div class=\"sk-toggleable__content\"><pre>StandardScaler()</pre></div></div></div></div></div>"
      ],
      "text/plain": [
       "StandardScaler()"
      ]
     },
     "execution_count": 64,
     "metadata": {},
     "output_type": "execute_result"
    }
   ],
   "source": [
    "#Scaling the data generally returns the z-score of every attribute\n",
    "std_scale = StandardScaler()  #intializing the scaler\n",
    "std_scale "
   ]
  },
  {
   "cell_type": "code",
   "execution_count": 65,
   "id": "8d3a3f82",
   "metadata": {
    "ExecuteTime": {
     "end_time": "2023-11-21T07:04:02.607787Z",
     "start_time": "2023-11-21T07:04:02.545451Z"
    }
   },
   "outputs": [],
   "source": [
    "X_train = std_scale.fit_transform(X_train)\n",
    "X_test = std_scale.fit_transform(X_test)\n",
    "y_train = std_scale.fit_transform(y_train)\n",
    "y_test = std_scale.fit_transform(y_test)"
   ]
  },
  {
   "cell_type": "code",
   "execution_count": 66,
   "id": "4db78125",
   "metadata": {
    "ExecuteTime": {
     "end_time": "2023-11-21T07:04:02.623627Z",
     "start_time": "2023-11-21T07:04:02.612915Z"
    }
   },
   "outputs": [
    {
     "name": "stdout",
     "output_type": "stream",
     "text": [
      "[[-0.42599451 -0.38297845 -0.17095113 ... -0.21067296 -0.35120363\n",
      "  -0.014261  ]\n",
      " [ 0.8282612  -0.76871253 -0.13278975 ... -0.21067296 -0.35120363\n",
      "  -0.014261  ]\n",
      " [ 0.7965508   0.32641756  0.02139764 ... -0.21067296 -0.35120363\n",
      "  -0.014261  ]\n",
      " ...\n",
      " [-1.59028826 -0.81748351 -0.17133275 ... -0.21067296 -0.35120363\n",
      "  -0.014261  ]\n",
      " [-0.8633724   2.8979781  -0.17114387 ... -0.21067296 -0.35120363\n",
      "  -0.014261  ]\n",
      " [ 0.19258132 -0.02828044 -0.16748192 ... -0.21067296 -0.35120363\n",
      "  -0.014261  ]]\n"
     ]
    }
   ],
   "source": [
    "print(X_train) "
   ]
  },
  {
   "cell_type": "code",
   "execution_count": 67,
   "id": "510e9ea8",
   "metadata": {
    "ExecuteTime": {
     "end_time": "2023-11-21T07:04:02.641024Z",
     "start_time": "2023-11-21T07:04:02.629496Z"
    }
   },
   "outputs": [
    {
     "data": {
      "text/plain": [
       "array([[ 1.08944347,  0.7775688 , -0.13528944, ..., -0.21718612,\n",
       "         2.79718926,  0.        ],\n",
       "       [ 0.404794  , -0.34722826, -0.13528944, ...,  4.60434577,\n",
       "        -0.35750173,  0.        ],\n",
       "       [-0.5832237 , -0.7365811 , -0.15042407, ..., -0.21718612,\n",
       "        -0.35750173,  0.        ],\n",
       "       ...,\n",
       "       [ 0.03586211, -0.13092114, -0.13528944, ..., -0.21718612,\n",
       "        -0.35750173,  0.        ],\n",
       "       [ 1.40131643,  2.55128726,  0.01605689, ..., -0.21718612,\n",
       "         2.79718926,  0.        ],\n",
       "       [-1.41126545, -0.72792881, -0.15207206, ..., -0.21718612,\n",
       "        -0.35750173,  0.        ]])"
      ]
     },
     "execution_count": 67,
     "metadata": {},
     "output_type": "execute_result"
    }
   ],
   "source": [
    "X_test "
   ]
  },
  {
   "cell_type": "code",
   "execution_count": 68,
   "id": "29b8383c",
   "metadata": {
    "ExecuteTime": {
     "end_time": "2023-11-21T07:04:02.662176Z",
     "start_time": "2023-11-21T07:04:02.645273Z"
    }
   },
   "outputs": [
    {
     "data": {
      "text/plain": [
       "array([[-0.34937446],\n",
       "       [-0.34937446],\n",
       "       [-0.34937446],\n",
       "       ...,\n",
       "       [-0.34937446],\n",
       "       [ 2.86225844],\n",
       "       [-0.34937446]])"
      ]
     },
     "execution_count": 68,
     "metadata": {},
     "output_type": "execute_result"
    }
   ],
   "source": [
    "y_train  "
   ]
  },
  {
   "cell_type": "code",
   "execution_count": 69,
   "id": "169a7dc4",
   "metadata": {
    "ExecuteTime": {
     "end_time": "2023-11-21T07:04:02.682030Z",
     "start_time": "2023-11-21T07:04:02.668348Z"
    }
   },
   "outputs": [
    {
     "data": {
      "text/plain": [
       "array([[-0.39448249],\n",
       "       [-0.39448249],\n",
       "       [ 2.53496673],\n",
       "       ...,\n",
       "       [-0.39448249],\n",
       "       [-0.39448249],\n",
       "       [ 2.53496673]])"
      ]
     },
     "execution_count": 69,
     "metadata": {},
     "output_type": "execute_result"
    }
   ],
   "source": [
    "y_test "
   ]
  },
  {
   "cell_type": "code",
   "execution_count": null,
   "id": "6e847ae3",
   "metadata": {},
   "outputs": [],
   "source": []
  }
 ],
 "metadata": {
  "kernelspec": {
   "display_name": "Python 3 (ipykernel)",
   "language": "python",
   "name": "python3"
  },
  "language_info": {
   "codemirror_mode": {
    "name": "ipython",
    "version": 3
   },
   "file_extension": ".py",
   "mimetype": "text/x-python",
   "name": "python",
   "nbconvert_exporter": "python",
   "pygments_lexer": "ipython3",
   "version": "3.11.5"
  },
  "varInspector": {
   "cols": {
    "lenName": 16,
    "lenType": 16,
    "lenVar": 40
   },
   "kernels_config": {
    "python": {
     "delete_cmd_postfix": "",
     "delete_cmd_prefix": "del ",
     "library": "var_list.py",
     "varRefreshCmd": "print(var_dic_list())"
    },
    "r": {
     "delete_cmd_postfix": ") ",
     "delete_cmd_prefix": "rm(",
     "library": "var_list.r",
     "varRefreshCmd": "cat(var_dic_list()) "
    }
   },
   "types_to_exclude": [
    "module",
    "function",
    "builtin_function_or_method",
    "instance",
    "_Feature"
   ],
   "window_display": false
  }
 },
 "nbformat": 4,
 "nbformat_minor": 5
}
